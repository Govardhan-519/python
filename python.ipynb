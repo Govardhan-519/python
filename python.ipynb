{
 "cells": [
  {
   "cell_type": "markdown",
   "id": "da97e645-e8b9-4497-82a2-54c25c9ee899",
   "metadata": {},
   "source": [
    "# What is python\n",
    "-Python is a high level language.It is a object oriented language.It is widely used in web applications, software development, data science, machine learning and for testing purposes.\n",
    "-Python is a general-purpose, object-oriented programming language that is popular in data science thanks to its rich libraries and frameworks offering deep learning capabilities, structured machine learning and its ability to deal with large volumes of data.\n",
    "-Python is a dynamic, interpreted (bytecode-compiled) language. There are no type declarations of variables, parameters, functions, or methods in source code. This makes the code short and flexible, and you lose the compile-time type checking of the source code. "
   ]
  },
  {
   "cell_type": "markdown",
   "id": "079b8763-aded-4887-994e-b56ffc42a2d1",
   "metadata": {},
   "source": [
    "## Why Python\n",
    "1. Easy to Learn – Considered one of the most beginner-friendly languages due to its clear and concise syntax.\n",
    "2. Dynamic Typing – No need to explicitly declare variable types, making coding faster.\n",
    "3. Interpreted Code – Executed line by line without a separate compilation step, making testing and debugging easier.\n",
    "4. Object-Oriented – Supports object-oriented programming, allowing for better code organization and reusability.\n"
   ]
  },
  {
   "cell_type": "markdown",
   "id": "8a07fc6e-166f-48b9-939a-d722f65f4136",
   "metadata": {},
   "source": [
    "### History of Python\n",
    "\n",
    "1.The name Python comes from Monty Python. When Guido van Rossum was creating Python, he was also reading the scripts from BBC's Monty Python's Flying Circus. He thought the name Python was appropriately short and slightly mysterious.\n",
    "2.Python was conceived in the late 1980s by at Centrum Wiskunde and Informatica (CWI) in the Netherlands.\n",
    "3. Its implementation began in December 1989.\n",
    "4.And finally n February 1991, Van Rossum published the code (labeled version 0.9.0) to alt.sources."
   ]
  },
  {
   "cell_type": "markdown",
   "id": "dbdb2571-de1e-439d-bea6-f953dd48f13e",
   "metadata": {},
   "source": [
    "#### What is comment . Explain with an Example\n",
    "-Comments in Python is the inclusion of short descriptions along with the code to increase its readability.\n",
    "-A developer uses them to write his or her thought process while writing the code. \n",
    "-It explains the basic logic behind why a particular line of code was written.\n",
    "Example - # print a number\n",
    "print(25)"
   ]
  },
  {
   "cell_type": "markdown",
   "id": "eba7ca08-d9b6-4137-98ce-d651adfea90a",
   "metadata": {},
   "source": [
    "##### What is keyword. Explain with an example\n",
    "-Python keywords are special reserved words that have specific meanings and purposes and can't be used for anything but those specific purposes. \n",
    "-There are 36 key words as of python 3.8."
   ]
  },
  {
   "cell_type": "code",
   "execution_count": 33,
   "id": "ff1c2512-ba9e-4f23-8edc-616ee9303b9c",
   "metadata": {},
   "outputs": [
    {
     "name": "stdout",
     "output_type": "stream",
     "text": [
      "True\n"
     ]
    }
   ],
   "source": [
    "x = 25\n",
    "y = 20\n",
    "\n",
    "z = x > y\n",
    "print(z)  # True"
   ]
  },
  {
   "cell_type": "markdown",
   "id": "9fb8933e-8f93-4e0f-af54-f49ca85c4bcb",
   "metadata": {},
   "source": [
    "###### What is Variable . Explain the rules with examples\n",
    "-A variable in Python is a named memory location that stores a value. \n",
    "-Variables are used to store and work with data like numbers, strings, and lists. \n",
    "Rules\n",
    "-A variable can consist of upper- and lowercase letters, the digits 0-9 and the underscore character.\n",
    "-The first character of a variable cannot be a digit.\n",
    "-We can't start the variable with special character except \"-\"\n",
    "-We can't able use keywords to create a varible.\n",
    "-Variables are case-sensitive."
   ]
  },
  {
   "cell_type": "code",
   "execution_count": 34,
   "id": "47c2c7db-8204-47f8-84b1-6f4e0a9df143",
   "metadata": {},
   "outputs": [
    {
     "name": "stdout",
     "output_type": "stream",
     "text": [
      "25\n"
     ]
    }
   ],
   "source": [
    "govardhan = 25\n",
    "print(govardhan)"
   ]
  },
  {
   "cell_type": "code",
   "execution_count": 37,
   "id": "9d620e4a-0488-4810-a0bc-c574a90e6ec6",
   "metadata": {},
   "outputs": [
    {
     "ename": "SyntaxError",
     "evalue": "invalid decimal literal (2227508741.py, line 1)",
     "output_type": "error",
     "traceback": [
      "\u001b[1;36m  Cell \u001b[1;32mIn[37], line 1\u001b[1;36m\u001b[0m\n\u001b[1;33m    0govardhan = 25\u001b[0m\n\u001b[1;37m    ^\u001b[0m\n\u001b[1;31mSyntaxError\u001b[0m\u001b[1;31m:\u001b[0m invalid decimal literal\n"
     ]
    }
   ],
   "source": [
    "0govardhan = 25\n",
    "print(govardhan)"
   ]
  },
  {
   "cell_type": "code",
   "execution_count": 46,
   "id": "bea6dedc-112f-41f0-8faa-078241c9326c",
   "metadata": {},
   "outputs": [
    {
     "name": "stdout",
     "output_type": "stream",
     "text": [
      "10000\n"
     ]
    }
   ],
   "source": [
    "_DataScience = 10000\n",
    "print(_DataScience)"
   ]
  },
  {
   "cell_type": "code",
   "execution_count": 49,
   "id": "a71d3e23-a9f7-4969-a6a5-2e5a4db50268",
   "metadata": {},
   "outputs": [
    {
     "ename": "SyntaxError",
     "evalue": "cannot assign to expression here. Maybe you meant '==' instead of '='? (2540300524.py, line 1)",
     "output_type": "error",
     "traceback": [
      "\u001b[1;36m  Cell \u001b[1;32mIn[49], line 1\u001b[1;36m\u001b[0m\n\u001b[1;33m    Data-Scientist = 10000\u001b[0m\n\u001b[1;37m    ^\u001b[0m\n\u001b[1;31mSyntaxError\u001b[0m\u001b[1;31m:\u001b[0m cannot assign to expression here. Maybe you meant '==' instead of '='?\n"
     ]
    }
   ],
   "source": [
    "Data-Scientist = 10000\n",
    "print(Data-scientist)"
   ]
  },
  {
   "cell_type": "code",
   "execution_count": 55,
   "id": "dc1c96bd-7f09-4150-a577-c43447159ddc",
   "metadata": {},
   "outputs": [
    {
     "name": "stdout",
     "output_type": "stream",
     "text": [
      "1 2 3\n"
     ]
    }
   ],
   "source": [
    "a,b,c = 1,2,3\n",
    "print(a,b,c)"
   ]
  },
  {
   "cell_type": "code",
   "execution_count": 56,
   "id": "a5d4f419-8076-4d43-8959-fa7c50ad3a87",
   "metadata": {},
   "outputs": [
    {
     "ename": "SyntaxError",
     "evalue": "invalid syntax (1458332469.py, line 1)",
     "output_type": "error",
     "traceback": [
      "\u001b[1;36m  Cell \u001b[1;32mIn[56], line 1\u001b[1;36m\u001b[0m\n\u001b[1;33m    a b c = 1, 2,3\u001b[0m\n\u001b[1;37m      ^\u001b[0m\n\u001b[1;31mSyntaxError\u001b[0m\u001b[1;31m:\u001b[0m invalid syntax\n"
     ]
    }
   ],
   "source": [
    "a b c = 1, 2,3\n",
    "print(a b c)"
   ]
  },
  {
   "cell_type": "code",
   "execution_count": 57,
   "id": "9a559f4f-d770-4898-a2b7-74921c59666a",
   "metadata": {},
   "outputs": [
    {
     "name": "stdout",
     "output_type": "stream",
     "text": [
      "15\n"
     ]
    }
   ],
   "source": [
    "teks123 = 15\n",
    "print(teks123)"
   ]
  },
  {
   "cell_type": "code",
   "execution_count": 58,
   "id": "668e9ef3-a457-418b-bbe4-dc0c17059547",
   "metadata": {},
   "outputs": [
    {
     "ename": "SyntaxError",
     "evalue": "cannot assign to expression here. Maybe you meant '==' instead of '='? (1228073733.py, line 1)",
     "output_type": "error",
     "traceback": [
      "\u001b[1;36m  Cell \u001b[1;32mIn[58], line 1\u001b[1;36m\u001b[0m\n\u001b[1;33m    teks@123 = 15\u001b[0m\n\u001b[1;37m    ^\u001b[0m\n\u001b[1;31mSyntaxError\u001b[0m\u001b[1;31m:\u001b[0m cannot assign to expression here. Maybe you meant '==' instead of '='?\n"
     ]
    }
   ],
   "source": [
    "teks@123 = 15\n",
    "print(teks@123)"
   ]
  },
  {
   "cell_type": "code",
   "execution_count": 59,
   "id": "bc76e15c-a88e-4891-95d5-dbad8fde82ac",
   "metadata": {},
   "outputs": [
    {
     "name": "stdout",
     "output_type": "stream",
     "text": [
      "1\n"
     ]
    }
   ],
   "source": [
    "a=b=c=1\n",
    "print(a)"
   ]
  },
  {
   "cell_type": "code",
   "execution_count": 62,
   "id": "43efdb6a-48c1-489d-8fa9-cfabcd3c38e0",
   "metadata": {},
   "outputs": [
    {
     "ename": "NameError",
     "evalue": "name 'd' is not defined",
     "output_type": "error",
     "traceback": [
      "\u001b[1;31m---------------------------------------------------------------------------\u001b[0m",
      "\u001b[1;31mNameError\u001b[0m                                 Traceback (most recent call last)",
      "Cell \u001b[1;32mIn[62], line 2\u001b[0m\n\u001b[0;32m      1\u001b[0m abcd\u001b[38;5;241m=\u001b[39m\u001b[38;5;241m0\u001b[39m\n\u001b[1;32m----> 2\u001b[0m \u001b[38;5;28mprint\u001b[39m(d)\n",
      "\u001b[1;31mNameError\u001b[0m: name 'd' is not defined"
     ]
    }
   ],
   "source": [
    "abcd=0\n",
    "print(d)"
   ]
  },
  {
   "cell_type": "code",
   "execution_count": null,
   "id": "a64563d7-c349-4a52-abd9-31b572b208ac",
   "metadata": {},
   "outputs": [],
   "source": []
  },
  {
   "cell_type": "code",
   "execution_count": null,
   "id": "44c95d00-78ad-47d5-8dea-c8d80850de1c",
   "metadata": {},
   "outputs": [],
   "source": []
  }
 ],
 "metadata": {
  "kernelspec": {
   "display_name": "Python 3 (ipykernel)",
   "language": "python",
   "name": "python3"
  },
  "language_info": {
   "codemirror_mode": {
    "name": "ipython",
    "version": 3
   },
   "file_extension": ".py",
   "mimetype": "text/x-python",
   "name": "python",
   "nbconvert_exporter": "python",
   "pygments_lexer": "ipython3",
   "version": "3.12.7"
  }
 },
 "nbformat": 4,
 "nbformat_minor": 5
}
